{
 "cells": [
  {
   "cell_type": "code",
   "execution_count": null,
   "id": "f1c62078",
   "metadata": {},
   "outputs": [],
   "source": [
    "#My decision    \n",
    "#Problem #1. Считаем сумму элементов списка\n",
    "#Пройтись в цикле по элементам списка и посчитать их сумму.\n",
    "    \n",
    "#ФОРМАТ ВВОДА\n",
    "    \n",
    "#Программа получает на вход числа через пробел\n",
    "#ФОРМАТ ВЫВОДА\n",
    "    \n",
    "#Сумма элементов списка\n",
    "\n",
    "list = int(input()), int(input()), int(input())\n",
    "S = 0\n",
    "for i in list:\n",
    "    S = S + i\n",
    "print(S)\n",
    "\n",
    "#Teacher's decision\n",
    "#numbers = input().split()\n",
    "\n",
    "#sum_of_numbers = 0  \n",
    "\n",
    "#for number in numbers:\n",
    "    #sum_of_numbers += int(number) \n",
    "\n",
    "#print(sum_of_numbers)  "
   ]
  }
 ],
 "metadata": {
  "kernelspec": {
   "display_name": "Python 3 (ipykernel)",
   "language": "python",
   "name": "python3"
  },
  "language_info": {
   "codemirror_mode": {
    "name": "ipython",
    "version": 3
   },
   "file_extension": ".py",
   "mimetype": "text/x-python",
   "name": "python",
   "nbconvert_exporter": "python",
   "pygments_lexer": "ipython3",
   "version": "3.9.13"
  }
 },
 "nbformat": 4,
 "nbformat_minor": 5
}
