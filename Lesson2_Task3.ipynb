{
 "cells": [
  {
   "cell_type": "code",
   "execution_count": null,
   "id": "d8b5fa3c",
   "metadata": {},
   "outputs": [],
   "source": [
    "### Задание 3. Мои любимые\n",
    "\n",
    "# Для данного числа n<100 закончите фразу “У меня на этой неделе...”\n",
    "# одним из возможных продолжений: “n дедлайн”, \"n дедлайна”,\n",
    "# “n дедлайнов”, правильно склоняя слово “дедлайн”.\n",
    "n = int(input())\n",
    "\n",
    "if 0 < n < 100:  # Задаём диапазон\n",
    "    if n % 10 == 1:\n",
    "        print('У меня на этой неделе', n, 'дедлайн')\n",
    "    if 2 <= n % 10 <= 4:\n",
    "        print('У меня на этой неделе', n, 'дедлайна')\n",
    "    if 5 <= n % 10 <= 9 or n == 0:\n",
    "        print('У меня на этой неделе', n, 'дедлайнов')\n",
    "if n >= 100:\n",
    "    print('Число больше 99, ошибка!') # Исключаем числа больше 99"
   ]
  }
 ],
 "metadata": {
  "kernelspec": {
   "display_name": "Python 3 (ipykernel)",
   "language": "python",
   "name": "python3"
  },
  "language_info": {
   "codemirror_mode": {
    "name": "ipython",
    "version": 3
   },
   "file_extension": ".py",
   "mimetype": "text/x-python",
   "name": "python",
   "nbconvert_exporter": "python",
   "pygments_lexer": "ipython3",
   "version": "3.9.13"
  }
 },
 "nbformat": 4,
 "nbformat_minor": 5
}
