{
 "cells": [
  {
   "cell_type": "code",
   "execution_count": null,
   "id": "54fd0f27",
   "metadata": {},
   "outputs": [],
   "source": [
    "#Problem #2. Наименьшее из положительных\n",
    "#Выведите значение наименьшего из всех положительных элементов в списке.\n",
    "#Известно, что в списке есть хотя бы один положительный элемент,\n",
    "#а значения всех элементов списка по модулю не превосходят 1000.\n",
    "\n",
    "#ФОРМАТ ВВОДА\n",
    "#Вводится список чисел. Все числа списка находятся на одной строке.\n",
    "#ФОРМАТ ВЫВОДА\n",
    "#Выведите ответ на задачу.\n",
    "\n",
    "#Пример 1\n",
    "#Ввод\n",
    "#5 -4 3 -2 1\n",
    "#Вывод\n",
    "#1\n",
    "\n",
    "#Пример 2\n",
    "#Ввод\n",
    "#10 5 0 -5 -10\n",
    "#Вывод\n",
    "#5\n",
    "\n",
    "#Пример 3\n",
    "#Ввод\n",
    "#-1 -2 -3 -4 100\n",
    "#Вывод\n",
    "#100\n",
    "\n",
    "# Enter a list of numbers on one line\n",
    "nums = input('Enter numbers: ').split()\n",
    "\n",
    "# Set the maximum number\n",
    "min_num = 1000\n",
    "\n",
    "for num in nums:\n",
    "    if int(num) > 0:\n",
    "        if int(num) < int(min_num):\n",
    "            min_num = num\n",
    "print(min_num)"
   ]
  }
 ],
 "metadata": {
  "kernelspec": {
   "display_name": "Python 3 (ipykernel)",
   "language": "python",
   "name": "python3"
  },
  "language_info": {
   "codemirror_mode": {
    "name": "ipython",
    "version": 3
   },
   "file_extension": ".py",
   "mimetype": "text/x-python",
   "name": "python",
   "nbconvert_exporter": "python",
   "pygments_lexer": "ipython3",
   "version": "3.9.13"
  }
 },
 "nbformat": 4,
 "nbformat_minor": 5
}
