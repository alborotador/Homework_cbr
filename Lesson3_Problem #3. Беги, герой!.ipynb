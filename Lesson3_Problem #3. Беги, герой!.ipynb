{
 "cells": [
  {
   "cell_type": "code",
   "execution_count": null,
   "id": "bac5d2f8",
   "metadata": {},
   "outputs": [],
   "source": [
    "#Problem #3. Беги, герой!\n",
    "#Вася начал бегать и в первый день он пробежал X километров и выдохся.\n",
    "#Вася поставил себе цель Y километров и решил узнать, когда он ее достигнет,\n",
    "#если каждый день будет бегать дистанцию на 10% больше, чем в предыдущий.\n",
    "\n",
    "#ФОРМАТ ВВОДА\n",
    "#Программа получает на вход целые числа X, Y\n",
    "#ФОРМАТ ВЫВОДА\n",
    "#Одно целое число (день, когда Вася пробежит свою цель)\n",
    "\n",
    "#Пример\n",
    "#Ввод\n",
    "#10 21\n",
    "#Вывод\n",
    "#9\n",
    "\n",
    "# Specify the mileage on the first day and our goal\n",
    "x, y = int(input()), int(input())\n",
    "\n",
    "# Count the number of days\n",
    "day = 1\n",
    "\n",
    "while x <= y:\n",
    "    x = x + (x * 0.1)\n",
    "    day += 1\n",
    "\n",
    "print(day)\n",
    "\n",
    "# Solutions from the Internet\n",
    "#x = int(input())\n",
    "#y = int(input())\n",
    "#day = 1\n",
    "#while y - x > 0:\n",
    "    #x = x + (x * 0.1)\n",
    "    #day += 1\n",
    "#print(day)\n",
    "\n",
    "#x = int(input())\n",
    "#y = int(input())\n",
    "#i = 1\n",
    "#while x < y:\n",
    "    #x *= 1.1\n",
    "    #i += 1\n",
    "#print(i)"
   ]
  }
 ],
 "metadata": {
  "kernelspec": {
   "display_name": "Python 3 (ipykernel)",
   "language": "python",
   "name": "python3"
  },
  "language_info": {
   "codemirror_mode": {
    "name": "ipython",
    "version": 3
   },
   "file_extension": ".py",
   "mimetype": "text/x-python",
   "name": "python",
   "nbconvert_exporter": "python",
   "pygments_lexer": "ipython3",
   "version": "3.9.13"
  }
 },
 "nbformat": 4,
 "nbformat_minor": 5
}
