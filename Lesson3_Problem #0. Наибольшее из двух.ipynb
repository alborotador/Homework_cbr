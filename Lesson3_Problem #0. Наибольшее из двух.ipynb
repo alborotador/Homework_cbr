{
 "cells": [
  {
   "cell_type": "code",
   "execution_count": null,
   "id": "acafd736",
   "metadata": {},
   "outputs": [],
   "source": [
    "#Problem #0. Наибольшее из двух\n",
    "#Попробуем написать программу, которая получает от пользователя два числа\n",
    "#и определяет, какое из них больше. Для ввода данных пользователем\n",
    "#используется функция input(). Т.к. в рамках этой задачи мы ожидаем\n",
    "#от пользователя число, мы сразу преобразуем введенную им строку\n",
    "#в тип int : int(input()). Теперь, если пользователь введет не число,\n",
    "#мы получим ошибку.\n",
    "\n",
    "#После того, как мы получили от пользователя два числа и записали\n",
    "#их в переменные x и y, мы проверяем, какое из чисел больше\n",
    "#и выводим результат сравнения.\n",
    "\n",
    "x, y = int(input()), int(input())\n",
    "if x > y:\n",
    "    print('x > y')\n",
    "if x < y:\n",
    "    print('x < y')\n",
    "if x == y:\n",
    "    print('равны')"
   ]
  }
 ],
 "metadata": {
  "kernelspec": {
   "display_name": "Python 3 (ipykernel)",
   "language": "python",
   "name": "python3"
  },
  "language_info": {
   "codemirror_mode": {
    "name": "ipython",
    "version": 3
   },
   "file_extension": ".py",
   "mimetype": "text/x-python",
   "name": "python",
   "nbconvert_exporter": "python",
   "pygments_lexer": "ipython3",
   "version": "3.9.13"
  }
 },
 "nbformat": 4,
 "nbformat_minor": 5
}
