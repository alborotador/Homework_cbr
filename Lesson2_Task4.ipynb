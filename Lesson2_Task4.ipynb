## Задание 4. Опять про будильник

# Попробуйте решить задачу про будильник, но уже для случая,
# когда вы можете лечь до полуночи (т.е., может начаться новый день).

h_asl, m_asl, dur = int(input()), int(input()), int(input())

h_dur = dur // 60
m_dur = dur % 60

h_aw = h_asl + h_dur
m_aw = m_asl + m_dur

if m_aw >= 60:
    h_aw += 1
    m_aw = m_aw - 60

if h_aw >= 24:
    h_aw = h_aw - 24    
    
if m_aw // 10 == 0:
    m_aw ='0'+str(m_aw)
    
if h_aw // 10 == 0:
    h_aw ='0'+str(h_aw)

#print(str((h_aw + 1) % 24), m_aw % 60, sep=':')
print(h_aw, m_aw, sep=':')