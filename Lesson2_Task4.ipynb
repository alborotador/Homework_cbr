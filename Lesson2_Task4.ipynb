{
 "cells": [
  {
   "cell_type": "code",
   "execution_count": null,
   "id": "65434ed1",
   "metadata": {},
   "outputs": [],
   "source": [
    "## Задание 4. Опять про будильник\n",
    "\n",
    "# Попробуйте решить задачу про будильник, но уже для случая,\n",
    "# когда вы можете лечь до полуночи (т.е., может начаться новый день).\n",
    "\n",
    "h_asl, m_asl, dur = int(input()), int(input()), int(input())\n",
    "\n",
    "h_dur = dur // 60\n",
    "m_dur = dur % 60\n",
    "\n",
    "h_aw = h_asl + h_dur\n",
    "m_aw = m_asl + m_dur\n",
    "\n",
    "if m_aw >= 60:\n",
    "    h_aw += 1\n",
    "    m_aw = m_aw - 60\n",
    "\n",
    "if h_aw >= 24:\n",
    "    h_aw = h_aw - 24    \n",
    "    \n",
    "if m_aw // 10 == 0:\n",
    "    m_aw ='0'+str(m_aw)\n",
    "    \n",
    "if h_aw // 10 == 0:\n",
    "    h_aw ='0'+str(h_aw)\n",
    "\n",
    "print(h_aw, m_aw, sep=':')"
   ]
  }
 ],
 "metadata": {
  "kernelspec": {
   "display_name": "Python 3 (ipykernel)",
   "language": "python",
   "name": "python3"
  },
  "language_info": {
   "codemirror_mode": {
    "name": "ipython",
    "version": 3
   },
   "file_extension": ".py",
   "mimetype": "text/x-python",
   "name": "python",
   "nbconvert_exporter": "python",
   "pygments_lexer": "ipython3",
   "version": "3.9.13"
  }
 },
 "nbformat": 4,
 "nbformat_minor": 5
}
