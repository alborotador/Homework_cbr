{
 "cells": [
  {
   "cell_type": "code",
   "execution_count": null,
   "id": "73dd9d3a",
   "metadata": {},
   "outputs": [],
   "source": [
    "# Problem #5. Факториал\n",
    "# Программа по вычислению факториала числа, заданного пользователем\n",
    "\n",
    "n = int(input())  # The user enters a number\n",
    "factorial = 1\n",
    "for i in range(1, n + 1):\n",
    "    print(\"factorial =\", factorial, \"*\", i)\n",
    "    factorial *= i\n",
    "print(\"factorial =\", factorial)"
   ]
  }
 ],
 "metadata": {
  "kernelspec": {
   "display_name": "Python 3 (ipykernel)",
   "language": "python",
   "name": "python3"
  },
  "language_info": {
   "codemirror_mode": {
    "name": "ipython",
    "version": 3
   },
   "file_extension": ".py",
   "mimetype": "text/x-python",
   "name": "python",
   "nbconvert_exporter": "python",
   "pygments_lexer": "ipython3",
   "version": "3.9.13"
  }
 },
 "nbformat": 4,
 "nbformat_minor": 5
}
