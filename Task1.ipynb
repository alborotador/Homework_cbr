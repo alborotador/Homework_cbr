{
 "cells": [
  {
   "cell_type": "code",
   "execution_count": null,
   "id": "dca9ecc2",
   "metadata": {},
   "outputs": [],
   "source": [
    "# Задача 1. Привет, мир!\n",
    "# Вы стали учебным ассистентом по курсу программирования на языке Python\n",
    "# (вот это повезло!). Вам необходимо написать программу,\n",
    "# которая будет считывать две переменных: ФИО и оценку студента и выводить текст:\n",
    "# \"Уважаемый ФИО, за курс по Python вы получили ОЦЕНКА!\"\n",
    "\n",
    "# Пример ввода:\n",
    "# Программистов Питон Анакондивич\n",
    "\n",
    "# 10\n",
    "\n",
    "# Пример вывода:\n",
    "\n",
    "# Уважаемый Программистов Питон Анакондивич, за курс по Python вы получили 10!\n",
    "\n",
    "# Решение\n",
    "# Вариант1\n",
    "# full_name, grade = input(), int(input())\n",
    "# print('Уважаемый ', full_name, ', за курс по Python вы получили ', grade,\n",
    "#       sep='', end='!')\n",
    "\n",
    "# Вариант2\n",
    "full_name, grade = input(), int(input())\n",
    "print('Уважаемый', full_name, end=',')\n",
    "print(' за курс по Python вы получили', grade, end='!')"
   ]
  }
 ],
 "metadata": {
  "kernelspec": {
   "display_name": "Python 3 (ipykernel)",
   "language": "python",
   "name": "python3"
  },
  "language_info": {
   "codemirror_mode": {
    "name": "ipython",
    "version": 3
   },
   "file_extension": ".py",
   "mimetype": "text/x-python",
   "name": "python",
   "nbconvert_exporter": "python",
   "pygments_lexer": "ipython3",
   "version": "3.9.13"
  }
 },
 "nbformat": 4,
 "nbformat_minor": 5
}
