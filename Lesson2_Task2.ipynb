{
 "cells": [
  {
   "cell_type": "code",
   "execution_count": null,
   "id": "c2e082c5",
   "metadata": {},
   "outputs": [],
   "source": [
    "## Задание 2. О мемах\n",
    "\n",
    "# В соответствии с анализом популярности известного всем паблика\n",
    "# \"хайер скул оф мемс\", ваш семинарист выяснил, что успешным является мем,\n",
    "# который набрал как минимум 60 лайков и 10 репостов. Пользователь вводит\n",
    "# отдельно количество лайков и количество репостов. Выведите фразу \"Ура,\n",
    "# топовый мем\", если мем соответствует параметру успешного и \"Чувство юмора\n",
    "# следует подкачать\" в обратном случае.\n",
    "\n",
    "like, repost = int(input()), int(input())\n",
    "if like >= 60 and repost >= 10:\n",
    "      print('Ура, топовый мем')\n",
    "else:\n",
    "      print('Чувство юмора следует подкачать')"
   ]
  }
 ],
 "metadata": {
  "kernelspec": {
   "display_name": "Python 3 (ipykernel)",
   "language": "python",
   "name": "python3"
  },
  "language_info": {
   "codemirror_mode": {
    "name": "ipython",
    "version": 3
   },
   "file_extension": ".py",
   "mimetype": "text/x-python",
   "name": "python",
   "nbconvert_exporter": "python",
   "pygments_lexer": "ipython3",
   "version": "3.9.13"
  }
 },
 "nbformat": 4,
 "nbformat_minor": 5
}
