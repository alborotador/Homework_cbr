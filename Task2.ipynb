{
 "cells": [
  {
   "cell_type": "code",
   "execution_count": null,
   "id": "4d86e7e5",
   "metadata": {},
   "outputs": [],
   "source": [
    "# Задача 2. Сон важен\n",
    "\n",
    "# Вы решили следить за своим режимом сна и создать программу,\n",
    "# которая будет вычислять нужное время пробуждения в зависимости\n",
    "# от времени засыпания и необходимой длительности сна. Напишите программу,\n",
    "# которая будет считывать три целых числа : час засыпания, минуты засыпания,\n",
    "# длительность сна (в минутах) и выводить время пробуждения в формате ЧЧ:ММ.\n",
    "# Будем считать, что вы всегда ложитесь спать после полуночи,\n",
    "# так как делаете домашки по питону.\n",
    "\n",
    "# Пример ввода:\n",
    "\n",
    "# 1\n",
    "# 20\n",
    "# 350\n",
    "\n",
    "# Пример вывода:\n",
    "\n",
    "# 7:10\n",
    "\n",
    "# Решение (Работает при любом условии)\n",
    "# Как сделать так, чтобы ноль не появлялся перед двузначными цифрами?!\n",
    "hour, minutes, dur = int(input()), int(input()), int(input())\n",
    "hour_dur = dur // 60  # Рассчитываем кол-во часов в длительности сна\n",
    "minutes_dur = dur % 60  # Рассчитываем кол-во минут в длительности сна\n",
    "hour_aw = hour + hour_dur  # Рассчитываем час пробуждения\n",
    "minutes_aw = minutes + minutes_dur  # Рассчитываем минуты пробуждения \n",
    "minutes1 = 60\n",
    "a = minutes_aw // minutes1  # Если минут больше 60, то час + 1\n",
    "a1 = minutes_aw % minutes1  # Если минут больше 60, то минуты + остаток\n",
    "b = (a + hour_aw) % 24\n",
    "print('0' + str(b), a1, sep=':')"
   ]
  }
 ],
 "metadata": {
  "kernelspec": {
   "display_name": "Python 3 (ipykernel)",
   "language": "python",
   "name": "python3"
  },
  "language_info": {
   "codemirror_mode": {
    "name": "ipython",
    "version": 3
   },
   "file_extension": ".py",
   "mimetype": "text/x-python",
   "name": "python",
   "nbconvert_exporter": "python",
   "pygments_lexer": "ipython3",
   "version": "3.9.13"
  }
 },
 "nbformat": 4,
 "nbformat_minor": 5
}
