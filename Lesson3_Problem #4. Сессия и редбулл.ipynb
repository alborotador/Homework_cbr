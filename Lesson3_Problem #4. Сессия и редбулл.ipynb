{
 "cells": [
  {
   "cell_type": "code",
   "execution_count": null,
   "id": "ca57d5b1",
   "metadata": {},
   "outputs": [],
   "source": [
    "# Problem #4. Сессия и редбулл\n",
    "# В первый день сессии студент с 1 курса выпил редбулл (250 мл).\n",
    "# Однако на следующий день он понял, что такого количества не хватает\n",
    "# для освоения микроэкономики и питона, и стал пить ежедневно на 150 мл больше.\n",
    "# На какой день студент выпьет больше, чем литр? Сколько миллилитров он выпьет\n",
    "# за это время? Подсказка: нужно изначально сделать две переменных-счетчика\n",
    "\n",
    "\n",
    "V = 250  # The volume of the drink\n",
    "days = 1  # Amount of days\n",
    "drink = 150  # Drink another 150 ml per day\n",
    "total = 0  # Total drunk\n",
    "\n",
    "while V <= 1000:\n",
    "    total = total + V\n",
    "    V = V + drink\n",
    "    \n",
    "    days += 1\n",
    "    \n",
    "       \n",
    "print(days)\n",
    "print(total)"
   ]
  }
 ],
 "metadata": {
  "kernelspec": {
   "display_name": "Python 3 (ipykernel)",
   "language": "python",
   "name": "python3"
  },
  "language_info": {
   "codemirror_mode": {
    "name": "ipython",
    "version": 3
   },
   "file_extension": ".py",
   "mimetype": "text/x-python",
   "name": "python",
   "nbconvert_exporter": "python",
   "pygments_lexer": "ipython3",
   "version": "3.9.13"
  }
 },
 "nbformat": 4,
 "nbformat_minor": 5
}
