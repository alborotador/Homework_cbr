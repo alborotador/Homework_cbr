{
 "cells": [
  {
   "cell_type": "code",
   "execution_count": null,
   "id": "90a5e454",
   "metadata": {},
   "outputs": [],
   "source": [
    "## Задание 1. Что насчет ПГАС?\n",
    "\n",
    "# Вы пытаетесь понять, положена ли вам ПГАС за успешную учебу.\n",
    "# В этом году ПГАС за учебу дают всем, чей GPA превышает 9.5.\n",
    "# Напишите программу, которая считывает GPA и выводит в зависимости\n",
    "# от его значения \"Ура, Вы получили пегас!\" или \"Не повезло\".\n",
    "# Если введенное число будет больше 10, выведите\n",
    "# \"Вы совершенно не умеете считать\".\n",
    "\n",
    "pgas = float(input('Enter your PGAS '))\n",
    "if  9.5 < pgas <= 10.0:\n",
    "    print(\"Ура, Вы получили пегас!\")\n",
    "if pgas <= 9.5:\n",
    "    print(\"Не повезло\")\n",
    "if pgas > 10.0:\n",
    "    print(\"Вы совершенно не умеете считать\")"
   ]
  }
 ],
 "metadata": {
  "kernelspec": {
   "display_name": "Python 3 (ipykernel)",
   "language": "python",
   "name": "python3"
  },
  "language_info": {
   "codemirror_mode": {
    "name": "ipython",
    "version": 3
   },
   "file_extension": ".py",
   "mimetype": "text/x-python",
   "name": "python",
   "nbconvert_exporter": "python",
   "pygments_lexer": "ipython3",
   "version": "3.9.13"
  }
 },
 "nbformat": 4,
 "nbformat_minor": 5
}
